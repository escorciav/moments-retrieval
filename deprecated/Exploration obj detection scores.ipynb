{
 "cells": [
  {
   "cell_type": "markdown",
   "metadata": {},
   "source": [
    "Analysis of the probability distribution per class for the object detection. "
   ]
  },
  {
   "cell_type": "code",
   "execution_count": 1,
   "metadata": {},
   "outputs": [
    {
     "name": "stdout",
     "output_type": "stream",
     "text": [
      "Loading complete\n"
     ]
    }
   ],
   "source": [
    "import json\n",
    "# data = json.load(open(f'./charades-sta/obj_detection/visual_genome/charades_sta_raw_obj_detection.json','r'))\n",
    "# data = json.load(open('./didemo/obj_detection/visual_genome/didemo_raw_obj_detection.json','r'))\n",
    "data = json.load(open('./activitynet-captions/obj_detection/visual_genome/activitynet_captions_raw_obj_detection.json','r'))\n",
    "print('Loading complete')"
   ]
  },
  {
   "cell_type": "code",
   "execution_count": 2,
   "metadata": {},
   "outputs": [
    {
     "name": "stdout",
     "output_type": "stream",
     "text": [
      "Number of videos: 19994\n",
      "Number of frames for the first video: 14\n",
      "Obj detector keys: ['objects', 'attributes', 'obj_conf', 'attr_conf']\n"
     ]
    }
   ],
   "source": [
    "#Inspect keys\n",
    "video_keys = list(data.keys())\n",
    "print('Number of videos: {}'.format(len(video_keys)))\n",
    "\n",
    "frame_keys = list(data[video_keys[0]].keys())\n",
    "print('Number of frames for the first video: {}'.format(len(frame_keys)))\n",
    "\n",
    "annotation_keys = list(data[video_keys[0]][frame_keys[0]].keys())\n",
    "print('Obj detector keys: {}'.format(annotation_keys))"
   ]
  },
  {
   "cell_type": "code",
   "execution_count": 3,
   "metadata": {},
   "outputs": [
    {
     "name": "stderr",
     "output_type": "stream",
     "text": [
      "100%|██████████| 19994/19994 [00:06<00:00, 2970.20it/s]\n"
     ]
    }
   ],
   "source": [
    "scores_per_class = [[] for _ in range(1601)]\n",
    "\n",
    "import tqdm\n",
    "\n",
    "for v in tqdm.tqdm(video_keys):\n",
    "    video_data = data[v]\n",
    "    frame_keys = list(video_data.keys())\n",
    "    for f in frame_keys:\n",
    "        frame_data = video_data[f]\n",
    "        objects  = frame_data['objects']\n",
    "        obj_conf = frame_data['obj_conf']\n",
    "        for idx,prob in zip(objects, obj_conf):\n",
    "            scores_per_class[idx].append(prob)"
   ]
  },
  {
   "cell_type": "code",
   "execution_count": 35,
   "metadata": {},
   "outputs": [
    {
     "name": "stdout",
     "output_type": "stream",
     "text": [
      "977\n"
     ]
    }
   ],
   "source": [
    "# Print indexes of non used classes\n",
    "# for i,s in enumerate(scores_per_class):\n",
    "#     if len(s)==0:\n",
    "#         print(i)\n",
    "\n",
    "# scores_per_class = [s for s in scores_per_class if len(s)!=0]\n",
    "# print(len(scores_per_class))"
   ]
  },
  {
   "cell_type": "code",
   "execution_count": 6,
   "metadata": {},
   "outputs": [
    {
     "name": "stdout",
     "output_type": "stream",
     "text": [
      "Done\n"
     ]
    }
   ],
   "source": [
    "# compute all the means and averages\n",
    "import numpy as np\n",
    "for perc in [20,40,50,60,70,90,95]:\n",
    "    thresholds =  [[] for _ in range(1601)]\n",
    "\n",
    "    for i,s in enumerate(scores_per_class):\n",
    "        if len(s) > 0:\n",
    "            thresholds[i] = np.percentile(np.asarray(s),perc)\n",
    "        else:\n",
    "            thresholds[i] = 0\n",
    "            \n",
    "    with open(f'./activitynet_captions_thresholds_percentile_{perc}.json','w') as f:\n",
    "        json.dump(thresholds,f)\n",
    "print('Done')"
   ]
  }
 ],
 "metadata": {
  "kernelspec": {
   "display_name": "Python 3",
   "language": "python",
   "name": "python3"
  },
  "language_info": {
   "codemirror_mode": {
    "name": "ipython",
    "version": 3
   },
   "file_extension": ".py",
   "mimetype": "text/x-python",
   "name": "python",
   "nbconvert_exporter": "python",
   "pygments_lexer": "ipython3",
   "version": "3.6.5"
  }
 },
 "nbformat": 4,
 "nbformat_minor": 4
}
