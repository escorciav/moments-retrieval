{
 "cells": [
  {
   "cell_type": "markdown",
   "metadata": {},
   "source": [
    "Notebook to compile the results of the recall per class. "
   ]
  },
  {
   "cell_type": "code",
   "execution_count": 20,
   "metadata": {},
   "outputs": [
    {
     "name": "stdout",
     "output_type": "stream",
     "text": [
      "6146\n",
      "['0_0.0.json', '0_0.2.json', '0_0.4.json', '0_0.6.json', '0_0.8.json', '0_0.9.json', '0_0.99.json', '100_0.0.json', '100_0.2.json', '100_0.4.json']\n"
     ]
    }
   ],
   "source": [
    "# Read list of files that have been dumped:\n",
    "import os\n",
    "\n",
    "list_files = sorted(os.listdir('./interim/analisys_obj_detector/'))\n",
    "print(len(list_files))\n",
    "print(list_files[:10])\n",
    "thresholds = [0.0,0.2,0.4,0.6,0.8,0.9,0.99]"
   ]
  },
  {
   "cell_type": "code",
   "execution_count": 23,
   "metadata": {},
   "outputs": [
    {
     "name": "stdout",
     "output_type": "stream",
     "text": [
      "Done\n"
     ]
    }
   ],
   "source": [
    "# Cycle over the files and read tre information:\n",
    "import json\n",
    "\n",
    "metric = 'precision'\n",
    "for th in thresholds:\n",
    "    files = [f for f in list_files if str(th) in f]\n",
    "    if th == 0.9:\n",
    "        files = [f for f in files if str(0.99) not in f]\n",
    "    results = {}\n",
    "    dataset = ''\n",
    "    split   = ''\n",
    "    for i in range(len(files)):\n",
    "        tmp = json.load(open(f'./interim/analisys_obj_detector/{i}_{th}.json','r'))\n",
    "        dataset = tmp['dataset']\n",
    "        split   = tmp['split']\n",
    "        results[tmp['concept'][0]] = tmp[metric]\n",
    "        assert(th == float(tmp['threshold']))\n",
    "    with open(f'./results_{metric}_{dataset}_{split}_{th}.json','w') as dump_file:\n",
    "        json.dump(results, dump_file)\n",
    "\n",
    "print('Done')"
   ]
  }
 ],
 "metadata": {
  "kernelspec": {
   "display_name": "Python 3",
   "language": "python",
   "name": "python3"
  },
  "language_info": {
   "codemirror_mode": {
    "name": "ipython",
    "version": 3
   },
   "file_extension": ".py",
   "mimetype": "text/x-python",
   "name": "python",
   "nbconvert_exporter": "python",
   "pygments_lexer": "ipython3",
   "version": "3.7.4"
  }
 },
 "nbformat": 4,
 "nbformat_minor": 2
}
