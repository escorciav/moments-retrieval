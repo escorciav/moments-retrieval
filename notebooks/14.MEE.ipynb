{
 "cells": [
  {
   "cell_type": "markdown",
   "metadata": {},
   "source": [
    "# Single video retrieval baseline\n",
    "\n",
    "We use the text-to-video retrieval algorithm in cascade with a text-to-moment retrievla algorithm to search for moments inside a video corpus. This is effectively corresponds to a two-stage retrieval approach. In the first stage, we search for potential videos associated with a given query. In the second stage, we apply a moment retrieval algorithm over the candidate videos retrieved by the first stage.\n",
    "\n",
    "For the first-stage, we use the MEE model as it's publicly available and achieve good performance wrt to concurrent approaches.\n",
    "\n",
    "## 1. Reproducing MEE\n",
    "\n",
    "TODO. Mattia pls describe our approach here.\n",
    "\n",
    "## 2. Reporpusing MEE for our case\n",
    "\n",
    "TODO. Mattia pls describe our approach here.\n",
    "\n",
    "## 3. Update MEE results\n",
    "\n",
    "Recover and dump `vid_indices` to HDF5-file with results from MEE.\n",
    "\n",
    "The `vid_indices` matrix has size `num-queries x num-videos` and the order of the columns corresponds to the ranking of the video. In other words,\n",
    "\n",
    "`vid_indices[i, j]` := for the `i-th` query the `j-th` ranked videos is `vid_indices[i, j]`."
   ]
  },
  {
   "cell_type": "code",
   "execution_count": null,
   "metadata": {},
   "outputs": [],
   "source": [
    "import h5py\n",
    "import numpy as np\n",
    "\n",
    "files = !ls /home/escorciav/Downloads/*_rank_mee.h5\n",
    "for filename in files:\n",
    "    with h5py.File(filename, 'a') as fid:\n",
    "        if 'vid_indices' in fid:\n",
    "            print(f'Skipped, \"vid_incides\" are present in {filename}')\n",
    "            continue\n",
    "            \n",
    "        rank = fid['rank'][:]\n",
    "        vid_indices = np.argsort(rank, axis=1)\n",
    "        vid_indices.astype(np.int64, copy=False)\n",
    "        assert vid_indices.shape == rank.shape\n",
    "        fid.create_dataset(name='vid_indices', chunks=True,\n",
    "                           data=vid_indices)"
   ]
  }
 ],
 "metadata": {
  "kernelspec": {
   "display_name": "Python 3",
   "language": "python",
   "name": "python3"
  },
  "language_info": {
   "codemirror_mode": {
    "name": "ipython",
    "version": 3
   },
   "file_extension": ".py",
   "mimetype": "text/x-python",
   "name": "python",
   "nbconvert_exporter": "python",
   "pygments_lexer": "ipython3",
   "version": "3.6.5"
  }
 },
 "nbformat": 4,
 "nbformat_minor": 2
}
