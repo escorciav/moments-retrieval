{
 "cells": [
  {
   "cell_type": "code",
   "execution_count": 8,
   "metadata": {},
   "outputs": [],
   "source": [
    "from proposals import SlidingWindowMSRSS, RC3D\n",
    "from nb_utils import parse_moments\n",
    "from nb_utils import recall_bound_and_search_space"
   ]
  },
  {
   "cell_type": "code",
   "execution_count": 9,
   "metadata": {},
   "outputs": [],
   "source": [
    "filename = '../data/processed/charades-sta/test-01.json'\n",
    "clip_length = 3\n",
    "proposals_prm = dict(\n",
    "    length=clip_length,\n",
    "    scales=list(range(2, 9, 1)),\n",
    "    stride=0.3\n",
    ")"
   ]
  },
  {
   "cell_type": "code",
   "execution_count": 10,
   "metadata": {},
   "outputs": [
    {
     "name": "stdout",
     "output_type": "stream",
     "text": [
      "[0.99623656 0.88790323]\n"
     ]
    }
   ],
   "source": [
    "# Sliding window proposals\n",
    "dataset = parse_moments(filename)\n",
    "proposals_fn = SlidingWindowMSRSS(**proposals_prm)\n",
    "train_results = recall_bound_and_search_space(\n",
    "    filename, proposals_fn)\n",
    "recall_ious, search_space, durations = train_results\n",
    "print(recall_ious)"
   ]
  },
  {
   "cell_type": "code",
   "execution_count": 11,
   "metadata": {},
   "outputs": [
    {
     "name": "stdout",
     "output_type": "stream",
     "text": [
      "[0.96075269 0.77069892]\n"
     ]
    }
   ],
   "source": [
    "# RC3D proposals\n",
    "dataset = parse_moments(filename)\n",
    "proposals_fn = RC3D(**proposals_prm)\n",
    "train_results = recall_bound_and_search_space(\n",
    "    filename, proposals_fn)\n",
    "recall_ious, search_space, durations = train_results\n",
    "print(recall_ious)"
   ]
  }
 ],
 "metadata": {
  "kernelspec": {
   "display_name": "Python 3",
   "language": "python",
   "name": "python3"
  },
  "language_info": {
   "codemirror_mode": {
    "name": "ipython",
    "version": 3
   },
   "file_extension": ".py",
   "mimetype": "text/x-python",
   "name": "python",
   "nbconvert_exporter": "python",
   "pygments_lexer": "ipython3",
   "version": "3.6.5"
  }
 },
 "nbformat": 4,
 "nbformat_minor": 2
}
