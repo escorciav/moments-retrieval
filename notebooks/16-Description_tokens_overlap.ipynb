{
 "cells": [
  {
   "cell_type": "markdown",
   "metadata": {},
   "source": [
    "# Descriptions overlapping"
   ]
  },
  {
   "cell_type": "markdown",
   "metadata": {},
   "source": [
    "For each query in the dataset, compute how many videos have overlapping tokens in their descriptions.  <br>\n",
    "- No stop words (the, a, in, on, or, etc)\n",
    "- Use space model for tokenization\n",
    "- Compute average over all queryies"
   ]
  },
  {
   "cell_type": "code",
   "execution_count": 1,
   "metadata": {},
   "outputs": [],
   "source": [
    "import spacy\n",
    "import json\n",
    "import sys\n",
    "import numpy as np\n",
    "from tqdm import tqdm"
   ]
  },
  {
   "cell_type": "code",
   "execution_count": 2,
   "metadata": {},
   "outputs": [],
   "source": [
    "# Setup spacy\n",
    "sp = spacy.load('en_core_web_sm')\n",
    "all_stopwords = list(sp.Defaults.stop_words)\n",
    "all_stopwords.extend(['.',',','\"', 'A', 'The'])\n",
    "tokenizer = sp.Defaults.create_tokenizer(sp)"
   ]
  },
  {
   "cell_type": "code",
   "execution_count": 15,
   "metadata": {},
   "outputs": [],
   "source": [
    "# Process annotations\n",
    "annotations,videos = [],[]\n",
    "for split in ['train','test','val']:\n",
    "    path = f'../data/processed/didemo/{split}-01.json'\n",
    "    annotations.extend(json.load(open(path,'r'))['moments'])\n",
    "    videos.extend(json.load(open(path,'r'))['videos'])\n",
    "\n",
    "video_tokens = {v:[] for v in videos}\n",
    "    \n",
    "all_tokens = []\n",
    "for i,a in enumerate(annotations):\n",
    "    text_tokens = [w.text.lower() for w in tokenizer(a['description'])]       # Rokenize\n",
    "    text_tokens = [t for t in text_tokens if t not in all_stopwords]  # Remove stop words\n",
    "    all_tokens.extend(text_tokens)\n",
    "    annotations[i]['tokens'] = text_tokens\n",
    "    video_tokens[a['video']].extend(text_tokens)\n",
    "    \n",
    "all_tokens = list(set(all_tokens))\n",
    "video_tokens = {v:list(set(t)) for v,t in video_tokens.items()}"
   ]
  },
  {
   "cell_type": "code",
   "execution_count": 16,
   "metadata": {},
   "outputs": [
    {
     "name": "stderr",
     "output_type": "stream",
     "text": [
      "41206it [16:03, 42.75it/s]\n"
     ]
    }
   ],
   "source": [
    "# Check with how many videos each annotation has overlapping. \n",
    "d_overlapping = np.zeros(len(annotations))\n",
    "num_overlaping= np.zeros(len(annotations))\n",
    "for i,a in tqdm(enumerate(annotations)):\n",
    "    d_t = a['tokens']\n",
    "    for _,v_t in video_tokens.items():\n",
    "        if any(item in d_t for item in v_t):\n",
    "            d_overlapping[i] += 1\n",
    "            num_overlaping[i] += len(set(d_t) & set(v_t))"
   ]
  },
  {
   "cell_type": "code",
   "execution_count": 12,
   "metadata": {},
   "outputs": [
    {
     "name": "stdout",
     "output_type": "stream",
     "text": [
      "avg number of overlapping videos 2542.356016114158\n",
      "avg number of overlapping videos 23.889832889627495\n",
      "avg number of overlapping words 0.28377723513533604\n"
     ]
    }
   ],
   "source": [
    "# Compute stats\n",
    "print(f'avg number of overlapping videos {d_overlapping.mean()}')\n",
    "print(f'avg number of overlapping videos {d_overlapping.mean()/len(videos)*100}')\n",
    "print(f'avg number of overlapping words {num_overlaping.mean()/len(videos)}')"
   ]
  },
  {
   "cell_type": "code",
   "execution_count": 10,
   "metadata": {},
   "outputs": [
    {
     "data": {
      "image/png": "[encoded data removed]",
      "text/plain": [
       "<Figure size 432x288 with 1 Axes>"
      ]
     },
     "metadata": {
      "needs_background": "light"
     },
     "output_type": "display_data"
    }
   ],
   "source": [
    "import matplotlib.pyplot as plt\n",
    "plt.hist(d_overlapping,bins=100)\n",
    "plt.show()"
   ]
  },
  {
   "cell_type": "markdown",
   "metadata": {},
   "source": [
    "# Check duplicates"
   ]
  },
  {
   "cell_type": "code",
   "execution_count": 6,
   "metadata": {},
   "outputs": [],
   "source": [
    "def _compute_description_tokens(annotations, video_tokens):\n",
    "    for i,a in enumerate(annotations):\n",
    "        text_tokens = [w.text.lower() for w in tokenizer(a['description'])]       # Rokenize\n",
    "        text_tokens = [t for t in text_tokens if t not in all_stopwords]          # Remove stop words\n",
    "        annotations[i]['tokens'] = text_tokens\n",
    "        video_tokens[a['video']].extend(text_tokens)\n",
    "    return annotations, video_tokens"
   ]
  },
  {
   "cell_type": "code",
   "execution_count": 10,
   "metadata": {},
   "outputs": [],
   "source": [
    "def _compute_overlapping(ann , vid):\n",
    "    overlap = np.zeros(len(ann))\n",
    "    for i,a in tqdm(enumerate(ann)):\n",
    "        d_t = a['tokens']\n",
    "        for _,v_t in vid.items():\n",
    "            if any(item in d_t for item in v_t):\n",
    "                overlap[i] += 1\n",
    "    return overlap"
   ]
  },
  {
   "cell_type": "code",
   "execution_count": 8,
   "metadata": {},
   "outputs": [],
   "source": [
    "# \n",
    "ann_train = json.load(open('../data/processed/didemo/train-01.json','r'))['moments']\n",
    "ann_val   = json.load(open('../data/processed/didemo/val-01.json'  ,'r'))['moments']\n",
    "ann_test  = json.load(open('../data/processed/didemo/test-01.json' ,'r'))['moments']\n",
    "\n",
    "vid_train = {k:[] for k in set([a['video'] for a in ann_train])}\n",
    "vid_val   = {k:[] for k in set([a['video'] for a in ann_val  ])}\n",
    "vid_test  = {k:[] for k in set([a['video'] for a in ann_test ])}\n",
    "\n",
    "ann_train, vid_train = _compute_description_tokens(ann_train, vid_train)\n",
    "ann_val  , vid_val   = _compute_description_tokens(ann_val  , vid_val)\n",
    "ann_test , vid_test  = _compute_description_tokens(ann_test , vid_test)"
   ]
  },
  {
   "cell_type": "code",
   "execution_count": 11,
   "metadata": {},
   "outputs": [
    {
     "name": "stderr",
     "output_type": "stream",
     "text": [
      "4180it [01:10, 59.38it/s]\n",
      "4021it [01:08, 58.92it/s]\n"
     ]
    }
   ],
   "source": [
    "# Compute overlapping of val set and test set with training set\n",
    "over_val  = _compute_overlapping(ann_val , vid_train)\n",
    "over_test = _compute_overlapping(ann_test, vid_train)"
   ]
  },
  {
   "cell_type": "code",
   "execution_count": 12,
   "metadata": {},
   "outputs": [
    {
     "name": "stdout",
     "output_type": "stream",
     "text": [
      "avg number of overlapping videos in training with validation annotations: 2041.2988038277513\n",
      "avg number of overlapping videos in training with test annotations: 2050.6085550857997\n"
     ]
    }
   ],
   "source": [
    "# Compute stats\n",
    "print(f'avg number of overlapping videos in training with validation annotations: {over_val.mean()}')\n",
    "print(f'avg number of overlapping videos in training with test annotations: {over_test.mean()}')"
   ]
  },
  {
   "cell_type": "code",
   "execution_count": 13,
   "metadata": {},
   "outputs": [
    {
     "data": {
      "image/png": "[encoded data removed]",
      "text/plain": [
       "<Figure size 432x288 with 1 Axes>"
      ]
     },
     "metadata": {
      "needs_background": "light"
     },
     "output_type": "display_data"
    }
   ],
   "source": [
    "import matplotlib.pyplot as plt\n",
    "plt.hist(over_val,bins=100)\n",
    "plt.show()"
   ]
  },
  {
   "cell_type": "code",
   "execution_count": 14,
   "metadata": {},
   "outputs": [
    {
     "data": {
      "image/png": "[encoded data removed]",
      "text/plain": [
       "<Figure size 432x288 with 1 Axes>"
      ]
     },
     "metadata": {
      "needs_background": "light"
     },
     "output_type": "display_data"
    }
   ],
   "source": [
    "import matplotlib.pyplot as plt\n",
    "plt.hist(over_test,bins=100)\n",
    "plt.show()"
   ]
  }
 ],
 "metadata": {
  "kernelspec": {
   "display_name": "Python 3",
   "language": "python",
   "name": "python3"
  },
  "language_info": {
   "codemirror_mode": {
    "name": "ipython",
    "version": 3
   },
   "file_extension": ".py",
   "mimetype": "text/x-python",
   "name": "python",
   "nbconvert_exporter": "python",
   "pygments_lexer": "ipython3",
   "version": "3.7.7"
  }
 },
 "nbformat": 4,
 "nbformat_minor": 4
}
