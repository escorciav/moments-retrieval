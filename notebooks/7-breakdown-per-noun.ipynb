{
 "cells": [
  {
   "cell_type": "markdown",
   "metadata": {},
   "source": [
    "# Breakdown per NOUNs\n",
    "\n",
    "Study single video retrieval results per NOUNs.\n",
    "\n",
    "- Use cell below to dump CSV and add data to G-sheets. To quickly swift through data and plot results."
   ]
  },
  {
   "cell_type": "code",
   "execution_count": 3,
   "metadata": {},
   "outputs": [],
   "source": [
    "import numpy as np\n",
    "import pandas as pd\n",
    "import json\n",
    "\n",
    "yfcc100m_csv = '../data/interim/yfcc100m/001.csv'\n",
    "nouns_to_video_didemo_json = '../data/interim/didemo/nouns_to_video.json'\n",
    "exp_csv = '../data/interim/hsmcn_07/2.csv'\n",
    "OUTPUT_FILE = '../data/interim/hsmcn_07/2_breakdown.csv'\n",
    "SUBSET = 'val'\n",
    "METRICS = ['iou', 'r@1', 'r@5']\n",
    "\n",
    "yfcc100m_df = pd.read_csv(yfcc100m_csv)\n",
    "with open(nouns_to_video_didemo_json, 'r') as fid:\n",
    "    nouns_to_instances = json.load(fid)['annotations_per_subset'][SUBSET]\n",
    "exp_df = pd.read_csv(exp_csv)\n",
    "\n",
    "nouns_metrics = []\n",
    "underrep_ids = []\n",
    "for tag, _ in yfcc100m_df.groupby('topk_tags'):\n",
    "    annotation_ids = nouns_to_instances[tag]\n",
    "    underrep_ids.extend(annotation_ids)\n",
    "    ind = np.in1d(exp_df['annotation_id'], annotation_ids)\n",
    "    if len(ind) == 0:\n",
    "        continue\n",
    "    # groupby if slow as hell\n",
    "    metrics = [exp_df.loc[ind, i].mean() for i in METRICS]\n",
    "    nouns_metrics.append([tag] + metrics)\n",
    "\n",
    "# Add results from under-represented NOUNs\n",
    "ind = np.in1d(exp_df['annotation_id'], underrep_ids)\n",
    "metrics = [exp_df.loc[ind, i].mean() for i in METRICS]\n",
    "nouns_metrics.append(['NOUNs Underrepresented/Unseen'] + metrics)\n",
    "wellrep_ids = np.setdiff1d(exp_df['annotation_id'], underrep_ids)\n",
    "assert set(underrep_ids).isdisjoint(wellrep_ids.tolist())\n",
    "ind = np.in1d(exp_df['annotation_id'], wellrep_ids)\n",
    "metrics = [exp_df.loc[ind, i].mean() for i in METRICS]\n",
    "nouns_metrics.append(['NOUNs Overrepresented'] + metrics)\n",
    "\n",
    "df = pd.DataFrame(nouns_metrics, columns=['attribute'] + METRICS)\n",
    "df.to_csv(OUTPUT_FILE, index=None)"
   ]
  }
 ],
 "metadata": {
  "kernelspec": {
   "display_name": "Python 3",
   "language": "python",
   "name": "python3"
  },
  "language_info": {
   "codemirror_mode": {
    "name": "ipython",
    "version": 3
   },
   "file_extension": ".py",
   "mimetype": "text/x-python",
   "name": "python",
   "nbconvert_exporter": "python",
   "pygments_lexer": "ipython3",
   "version": "3.6.5"
  }
 },
 "nbformat": 4,
 "nbformat_minor": 2
}
