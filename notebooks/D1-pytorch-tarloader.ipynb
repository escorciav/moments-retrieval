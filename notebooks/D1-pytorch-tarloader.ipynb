{
 "cells": [
  {
   "cell_type": "markdown",
   "metadata": {},
   "source": [
    "Editing dataloader"
   ]
  },
  {
   "cell_type": "code",
   "execution_count": 1,
   "metadata": {},
   "outputs": [
    {
     "data": {
      "text/plain": [
       "(<PIL.Image.Image image mode=RGB size=500x334 at 0x7F298358D5F8>, 0)"
      ]
     },
     "execution_count": 1,
     "metadata": {},
     "output_type": "execute_result"
    }
   ],
   "source": [
    "import csv\n",
    "import tarfile\n",
    "from pathlib import Path\n",
    "from PIL import Image\n",
    "from torch.utils.data import Dataset\n",
    "from torchvision.datasets.folder import default_loader\n",
    "\n",
    "\n",
    "def tar_loader(filename):\n",
    "    \"Load image from tar for YFCC100M\"\n",
    "    root_dir = filename.parents[1]\n",
    "    tarname = filename.parent.name\n",
    "    image = filename.name\n",
    "    \n",
    "    filename = root_dir / (tarname + '.tar')\n",
    "    reader = tarfile.open(filename)\n",
    "    fid = reader.extractfile(f'{tarname}/{image}')\n",
    "    assert fid is not None\n",
    "    img = Image.open(fid)\n",
    "    return img.convert('RGB')\n",
    "\n",
    "\n",
    "class ImageFromCSV(Dataset):\n",
    "    \"\"\"Load images from a CSV list.\n",
    "\n",
    "    It is a replacement for ImageFolder when you are interested in a\n",
    "    particular set of images. Indeed, the only different is the way the images\n",
    "    and targets are gotten.\n",
    "\n",
    "    Args:\n",
    "        filename (str, optional): CSV file with list of images to read.\n",
    "        root (str, optional) : files in filename are a relative path with\n",
    "            respect to the dirname here. It reduces size of CSV but not in\n",
    "            memory.\n",
    "        fields (sequence, optional): sequence with field names associated for\n",
    "            image paths and targets, respectively. If not provided, it uses\n",
    "            the first two fields in the first row.\n",
    "    \"\"\"\n",
    "\n",
    "    def __init__(self, filename, root='', fields=None, transform=None,\n",
    "                 target_transform=None, loader=default_loader):\n",
    "        self.root = Path(root)\n",
    "        self.filename = filename\n",
    "        self.fields = fields\n",
    "        self.transform = transform\n",
    "        self.target_transform = target_transform\n",
    "        self.loader = loader\n",
    "        self.imgs = self._make_dataset()\n",
    "\n",
    "    def _make_dataset(self):\n",
    "        with open(self.filename, 'r') as fid:\n",
    "            reader = csv.DictReader(fid)\n",
    "\n",
    "            if self.fields is None:\n",
    "                self.fields = reader.fieldnames\n",
    "            else:\n",
    "                check = [i in reader.fieldnames for i in self.fields]\n",
    "                if not all(check):\n",
    "                    raise ValueError(f'Missing fields in {self.filename}')\n",
    "\n",
    "            imgs = []\n",
    "            for i, row in enumerate(reader):\n",
    "                img_name = row[self.fields[0]]\n",
    "                path = self.root / img_name\n",
    "\n",
    "                target = 0\n",
    "                if len(self.fields) > 1:\n",
    "                    target = row[self.fields[1]]\n",
    "\n",
    "                imgs.append((path, target))\n",
    "            return imgs\n",
    "\n",
    "    def __getitem__(self, index):\n",
    "        \"\"\"Return item\n",
    "\n",
    "        Args:\n",
    "            index (int): Index\n",
    "        Returns:\n",
    "            tuple: (sample, target) where target is class_index of the target\n",
    "                   class.\n",
    "        \"\"\"\n",
    "        path, target = self.imgs[index]\n",
    "        target = target\n",
    "        sample = self.loader(path)\n",
    "        if self.transform is not None:\n",
    "            sample = self.transform(sample)\n",
    "        if self.target_transform is not None:\n",
    "            target = self.target_transform(target)\n",
    "        return sample, target\n",
    "\n",
    "    def __len__(self):\n",
    "        return len(self.imgs)\n",
    "    \n",
    "filename = 'tmp.csv'\n",
    "root = '/mnt/ilcompf2d1/data/yfcc100m/image'\n",
    "aja = ImageFromCSV(filename, root, ['adobe_cil'], loader=tar_loader)\n",
    "aja[0]"
   ]
  },
  {
   "cell_type": "code",
   "execution_count": 6,
   "metadata": {},
   "outputs": [
    {
     "name": "stdout",
     "output_type": "stream",
     "text": [
      "628,4-006/0069517.jpg,http://farm2.staticflickr.com/1425/832852758_f7d540ed82.jpg,canada,barcello;canada;montreal,canada,barcellos;canada;montreal\n"
     ]
    }
   ],
   "source": [
    "# !head yfcc100m_images_intersect_didemo_val_nouns_counter_eq_1_sample.csv\n",
    "# !grep \"4-000/0009966.jpg\" yfcc100m_images_intersect_didemo_val_nouns_counter_eq_1_sample.csv \n",
    "# !grep \"4-002/0021772.jpg\" yfcc100m_images_intersect_didemo_val_nouns_counter_eq_1_sample.csv \n",
    "# !grep \"4-002/0029950.jpg\" yfcc100m_images_intersect_didemo_val_nouns_counter_eq_1_sample.csv\n",
    "# !grep \"4-006/0069517.jpg\" yfcc100m_images_intersect_didemo_val_nouns_counter_eq_1_sample.csv"
   ]
  },
  {
   "cell_type": "code",
   "execution_count": 7,
   "metadata": {},
   "outputs": [
    {
     "name": "stdout",
     "output_type": "stream",
     "text": [
      "[2/1954]\tData-in 208.819 (208.812)\t\n",
      "[3/1954]\tData-in 216.845 (211.490)\t\n"
     ]
    },
    {
     "ename": "KeyError",
     "evalue": "'Traceback (most recent call last):\\n  File \"/mnt/ilcompf9d1/user/escorcia/install/bin/miniconda3/envs/scientific/lib/python3.6/site-packages/torch/utils/data/dataloader.py\", line 57, in _worker_loop\\n    samples = collate_fn([dataset[i] for i in batch_indices])\\n  File \"/mnt/ilcompf9d1/user/escorcia/install/bin/miniconda3/envs/scientific/lib/python3.6/site-packages/torch/utils/data/dataloader.py\", line 57, in <listcomp>\\n    samples = collate_fn([dataset[i] for i in batch_indices])\\n  File \"<ipython-input-1-48a438122394>\", line 84, in __getitem__\\n    sample = self.loader(path)\\n  File \"<ipython-input-1-48a438122394>\", line 17, in tar_loader\\n    fid = reader.extractfile(f\\'{tarname}/{image}\\')\\n  File \"/mnt/ilcompf9d1/user/escorcia/install/bin/miniconda3/envs/scientific/lib/python3.6/tarfile.py\", line 2074, in extractfile\\n    tarinfo = self.getmember(member)\\n  File \"/mnt/ilcompf9d1/user/escorcia/install/bin/miniconda3/envs/scientific/lib/python3.6/tarfile.py\", line 1750, in getmember\\n    raise KeyError(\"filename %r not found\" % name)\\nKeyError: \"filename \\'4-009/0098454.jpg\\' not found\"\\n'",
     "output_type": "error",
     "traceback": [
      "\u001b[0;31m---------------------------------------------------------------------------\u001b[0m",
      "\u001b[0;31mKeyError\u001b[0m                                  Traceback (most recent call last)",
      "\u001b[0;32m<ipython-input-7-65884420ee72>\u001b[0m in \u001b[0;36m<module>\u001b[0;34m()\u001b[0m\n\u001b[1;32m     48\u001b[0m \u001b[0min_time\u001b[0m \u001b[0;34m=\u001b[0m \u001b[0mAverageMeter\u001b[0m\u001b[0;34m(\u001b[0m\u001b[0;34m)\u001b[0m\u001b[0;34m\u001b[0m\u001b[0m\n\u001b[1;32m     49\u001b[0m \u001b[0mend\u001b[0m \u001b[0;34m=\u001b[0m \u001b[0mtime\u001b[0m\u001b[0;34m.\u001b[0m\u001b[0mtime\u001b[0m\u001b[0;34m(\u001b[0m\u001b[0;34m)\u001b[0m\u001b[0;34m\u001b[0m\u001b[0m\n\u001b[0;32m---> 50\u001b[0;31m \u001b[0;32mfor\u001b[0m \u001b[0mi\u001b[0m\u001b[0;34m,\u001b[0m \u001b[0;34m(\u001b[0m\u001b[0mimg\u001b[0m\u001b[0;34m,\u001b[0m \u001b[0m_\u001b[0m\u001b[0;34m)\u001b[0m \u001b[0;32min\u001b[0m \u001b[0menumerate\u001b[0m\u001b[0;34m(\u001b[0m\u001b[0mimg_loader\u001b[0m\u001b[0;34m)\u001b[0m\u001b[0;34m:\u001b[0m\u001b[0;34m\u001b[0m\u001b[0m\n\u001b[0m\u001b[1;32m     51\u001b[0m     \u001b[0mimg_d\u001b[0m \u001b[0;34m=\u001b[0m \u001b[0mimg\u001b[0m\u001b[0;34m.\u001b[0m\u001b[0mto\u001b[0m\u001b[0;34m(\u001b[0m\u001b[0;34m'cuda:0'\u001b[0m\u001b[0;34m)\u001b[0m\u001b[0;34m\u001b[0m\u001b[0m\n\u001b[1;32m     52\u001b[0m     \u001b[0min_time\u001b[0m\u001b[0;34m.\u001b[0m\u001b[0mupdate\u001b[0m\u001b[0;34m(\u001b[0m\u001b[0mtime\u001b[0m\u001b[0;34m.\u001b[0m\u001b[0mtime\u001b[0m\u001b[0;34m(\u001b[0m\u001b[0;34m)\u001b[0m \u001b[0;34m-\u001b[0m \u001b[0mend\u001b[0m\u001b[0;34m)\u001b[0m\u001b[0;34m\u001b[0m\u001b[0m\n",
      "\u001b[0;32m~/install/bin/miniconda3/envs/scientific/lib/python3.6/site-packages/torch/utils/data/dataloader.py\u001b[0m in \u001b[0;36m__next__\u001b[0;34m(self)\u001b[0m\n\u001b[1;32m    270\u001b[0m         \u001b[0;32mif\u001b[0m \u001b[0mself\u001b[0m\u001b[0;34m.\u001b[0m\u001b[0mrcvd_idx\u001b[0m \u001b[0;32min\u001b[0m \u001b[0mself\u001b[0m\u001b[0;34m.\u001b[0m\u001b[0mreorder_dict\u001b[0m\u001b[0;34m:\u001b[0m\u001b[0;34m\u001b[0m\u001b[0m\n\u001b[1;32m    271\u001b[0m             \u001b[0mbatch\u001b[0m \u001b[0;34m=\u001b[0m \u001b[0mself\u001b[0m\u001b[0;34m.\u001b[0m\u001b[0mreorder_dict\u001b[0m\u001b[0;34m.\u001b[0m\u001b[0mpop\u001b[0m\u001b[0;34m(\u001b[0m\u001b[0mself\u001b[0m\u001b[0;34m.\u001b[0m\u001b[0mrcvd_idx\u001b[0m\u001b[0;34m)\u001b[0m\u001b[0;34m\u001b[0m\u001b[0m\n\u001b[0;32m--> 272\u001b[0;31m             \u001b[0;32mreturn\u001b[0m \u001b[0mself\u001b[0m\u001b[0;34m.\u001b[0m\u001b[0m_process_next_batch\u001b[0m\u001b[0;34m(\u001b[0m\u001b[0mbatch\u001b[0m\u001b[0;34m)\u001b[0m\u001b[0;34m\u001b[0m\u001b[0m\n\u001b[0m\u001b[1;32m    273\u001b[0m \u001b[0;34m\u001b[0m\u001b[0m\n\u001b[1;32m    274\u001b[0m         \u001b[0;32mif\u001b[0m \u001b[0mself\u001b[0m\u001b[0;34m.\u001b[0m\u001b[0mbatches_outstanding\u001b[0m \u001b[0;34m==\u001b[0m \u001b[0;36m0\u001b[0m\u001b[0;34m:\u001b[0m\u001b[0;34m\u001b[0m\u001b[0m\n",
      "\u001b[0;32m~/install/bin/miniconda3/envs/scientific/lib/python3.6/site-packages/torch/utils/data/dataloader.py\u001b[0m in \u001b[0;36m_process_next_batch\u001b[0;34m(self, batch)\u001b[0m\n\u001b[1;32m    305\u001b[0m         \u001b[0mself\u001b[0m\u001b[0;34m.\u001b[0m\u001b[0m_put_indices\u001b[0m\u001b[0;34m(\u001b[0m\u001b[0;34m)\u001b[0m\u001b[0;34m\u001b[0m\u001b[0m\n\u001b[1;32m    306\u001b[0m         \u001b[0;32mif\u001b[0m \u001b[0misinstance\u001b[0m\u001b[0;34m(\u001b[0m\u001b[0mbatch\u001b[0m\u001b[0;34m,\u001b[0m \u001b[0mExceptionWrapper\u001b[0m\u001b[0;34m)\u001b[0m\u001b[0;34m:\u001b[0m\u001b[0;34m\u001b[0m\u001b[0m\n\u001b[0;32m--> 307\u001b[0;31m             \u001b[0;32mraise\u001b[0m \u001b[0mbatch\u001b[0m\u001b[0;34m.\u001b[0m\u001b[0mexc_type\u001b[0m\u001b[0;34m(\u001b[0m\u001b[0mbatch\u001b[0m\u001b[0;34m.\u001b[0m\u001b[0mexc_msg\u001b[0m\u001b[0;34m)\u001b[0m\u001b[0;34m\u001b[0m\u001b[0m\n\u001b[0m\u001b[1;32m    308\u001b[0m         \u001b[0;32mreturn\u001b[0m \u001b[0mbatch\u001b[0m\u001b[0;34m\u001b[0m\u001b[0m\n\u001b[1;32m    309\u001b[0m \u001b[0;34m\u001b[0m\u001b[0m\n",
      "\u001b[0;31mKeyError\u001b[0m: 'Traceback (most recent call last):\\n  File \"/mnt/ilcompf9d1/user/escorcia/install/bin/miniconda3/envs/scientific/lib/python3.6/site-packages/torch/utils/data/dataloader.py\", line 57, in _worker_loop\\n    samples = collate_fn([dataset[i] for i in batch_indices])\\n  File \"/mnt/ilcompf9d1/user/escorcia/install/bin/miniconda3/envs/scientific/lib/python3.6/site-packages/torch/utils/data/dataloader.py\", line 57, in <listcomp>\\n    samples = collate_fn([dataset[i] for i in batch_indices])\\n  File \"<ipython-input-1-48a438122394>\", line 84, in __getitem__\\n    sample = self.loader(path)\\n  File \"<ipython-input-1-48a438122394>\", line 17, in tar_loader\\n    fid = reader.extractfile(f\\'{tarname}/{image}\\')\\n  File \"/mnt/ilcompf9d1/user/escorcia/install/bin/miniconda3/envs/scientific/lib/python3.6/tarfile.py\", line 2074, in extractfile\\n    tarinfo = self.getmember(member)\\n  File \"/mnt/ilcompf9d1/user/escorcia/install/bin/miniconda3/envs/scientific/lib/python3.6/tarfile.py\", line 1750, in getmember\\n    raise KeyError(\"filename %r not found\" % name)\\nKeyError: \"filename \\'4-009/0098454.jpg\\' not found\"\\n'"
     ]
    }
   ],
   "source": [
    "class AverageMeter(object):\n",
    "    \"\"\"Computes and stores the average and current value\n",
    "\n",
    "    Credits:\n",
    "        @pytorch team - Imagenet example\n",
    "    \"\"\"\n",
    "\n",
    "    def __init__(self):\n",
    "        self.reset()\n",
    "\n",
    "    def reset(self):\n",
    "        self.val = 0\n",
    "        self.avg = 0\n",
    "        self.sum = 0\n",
    "        self.count = 0\n",
    "\n",
    "    def update(self, val, n=1):\n",
    "        self.val = val\n",
    "        self.sum += val * n\n",
    "        self.count += n\n",
    "        self.avg = self.sum / self.count\n",
    "\n",
    "\n",
    "import time\n",
    "import torchvision.transforms as transforms\n",
    "from torch.utils.data import DataLoader\n",
    "\n",
    "filename = 'yfcc100m_images_intersect_didemo_val_nouns_counter_eq_1_sample.csv'\n",
    "root = '/mnt/ilcompf2d1/data/yfcc100m/image'\n",
    "fields = ['adobe_cil']\n",
    "batch_size = 256\n",
    "num_workers = 8\n",
    "PIN_MEMORY = True\n",
    "\n",
    "resize_transform = [transforms.Resize((224, 224))]\n",
    "normalize = transforms.Normalize(mean=[0.485, 0.456, 0.406],\n",
    "                                 std=[0.229, 0.224, 0.225])\n",
    "img_transform = transforms.Compose(\n",
    "        resize_transform + [transforms.ToTensor(), normalize])\n",
    "\n",
    "img_loader = DataLoader(\n",
    "    dataset=ImageFromCSV(filename, root, fields=fields,\n",
    "                         transform=img_transform,\n",
    "                         loader=tar_loader),\n",
    "    batch_size=batch_size,\n",
    "    num_workers=num_workers,\n",
    "    pin_memory=PIN_MEMORY)\n",
    "in_time = AverageMeter()\n",
    "end = time.time()\n",
    "for i, (img, _) in enumerate(img_loader):\n",
    "    img_d = img.to('cuda:0')\n",
    "    in_time.update(time.time() - end)\n",
    "    if i % 10:\n",
    "        print(f'[{i + 1}/{len(img_loader)}]\\t'\n",
    "              f'Data-in {in_time.val:.3f} ({in_time.avg:.3f})\\t')\n",
    "    if i == 100:\n",
    "        break"
   ]
  }
 ],
 "metadata": {
  "kernelspec": {
   "display_name": "Python 3",
   "language": "python",
   "name": "python3"
  },
  "language_info": {
   "codemirror_mode": {
    "name": "ipython",
    "version": 3
   },
   "file_extension": ".py",
   "mimetype": "text/x-python",
   "name": "python",
   "nbconvert_exporter": "python",
   "pygments_lexer": "ipython3",
   "version": "3.6.5"
  }
 },
 "nbformat": 4,
 "nbformat_minor": 2
}
