{
 "cells": [
  {
   "cell_type": "markdown",
   "metadata": {},
   "source": [
    "# Update Glove"
   ]
  },
  {
   "cell_type": "markdown",
   "metadata": {},
   "source": [
    "pytorchtext\n",
    "\n",
    "- [torchtext notes](http://anie.me/On-Torchtext/)\n",
    "\n",
    "- [spro example pytorch-text](https://github.com/spro/practical-pytorch/blob/master/glove-word-vectors/glove-word-vectors.ipynb)\n",
    "\n",
    "elmo\n",
    "\n",
    "- [elmo](https://github.com/allenai/allennlp/blob/master/tutorials/how_to/elmo.md)\n",
    "\n",
    "glove\n",
    "\n",
    "- [Notebook](https://github.com/A-Jacobson/CNN_Sentence_Classification/blob/master/WordVectors.ipynb) with example\n",
    "\n",
    "- [forum](https://discuss.pytorch.org/t/can-we-use-pre-trained-word-embeddings-for-weight-initialization-in-nn-embedding/1222/19)\n",
    "\n",
    "- [example in medium](https://medium.com/@martinpella/how-to-use-pre-trained-word-embeddings-in-pytorch-71ca59249f76)"
   ]
  },
  {
   "cell_type": "code",
   "execution_count": 1,
   "metadata": {},
   "outputs": [
    {
     "name": "stdout",
     "output_type": "stream",
     "text": [
      "__init__  115.26 s\n",
      "__init__  115.28 s\n"
     ]
    },
    {
     "data": {
      "text/plain": [
       "<glove.RecurrentEmbedding at 0x7f38303e9f60>"
      ]
     },
     "execution_count": 1,
     "metadata": {},
     "output_type": "execute_result"
    }
   ],
   "source": [
    "from glove import RecurrentEmbedding\n",
    "\n",
    "RecurrentEmbedding()"
   ]
  }
 ],
 "metadata": {
  "kernelspec": {
   "display_name": "Python 3",
   "language": "python",
   "name": "python3"
  },
  "language_info": {
   "codemirror_mode": {
    "name": "ipython",
    "version": 3
   },
   "file_extension": ".py",
   "mimetype": "text/x-python",
   "name": "python",
   "nbconvert_exporter": "python",
   "pygments_lexer": "ipython3",
   "version": "3.6.5"
  }
 },
 "nbformat": 4,
 "nbformat_minor": 2
}
