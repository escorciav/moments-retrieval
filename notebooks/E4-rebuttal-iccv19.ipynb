{
 "cells": [
  {
   "cell_type": "markdown",
   "metadata": {},
   "source": [
    "Dump mapping indices from MEE into video-id of Charades-STA"
   ]
  },
  {
   "cell_type": "code",
   "execution_count": null,
   "metadata": {},
   "outputs": [],
   "source": [
    "from dataset_untrimmed import UntrimmedBasedMCNStyle\n",
    "import json\n",
    "\n",
    "filename = 'data/processed/charades-sta/test-01.json'\n",
    "dataset = UntrimmedBasedMCNStyle(\n",
    "        filename, cues={}, no_visual=True, clip_length=3, debug=True)\n",
    "\n",
    "ind2vid = {}\n",
    "for query_metadata in dataset.metadata:\n",
    "    if query_metadata['video_index'] not in ind2vid:\n",
    "        ind2vid[query_metadata['video_index']] = query_metadata['video']\n",
    "ind2videoquery = {}\n",
    "for i, query_metadata in enumerate(dataset.metadata):\n",
    "    ind2videoquery[i] = (query_metadata['video'], query_metadata['description'])\n",
    "\n",
    "# filename = 'data/processed/3rdparty/mee_video-retrieval_charades-sta_mappings.json'\n",
    "# with open(filename, 'x') as fid:\n",
    "#     json.dump({'ind2vid': ind2vid,\n",
    "#                'ind2videoquery': ind2videoquery},\n",
    "#               fid, sort_keys=True, indent=1)"
   ]
  }
 ],
 "metadata": {
  "kernelspec": {
   "display_name": "Python 3",
   "language": "python",
   "name": "python3"
  },
  "language_info": {
   "codemirror_mode": {
    "name": "ipython",
    "version": 3
   },
   "file_extension": ".py",
   "mimetype": "text/x-python",
   "name": "python",
   "nbconvert_exporter": "python",
   "pygments_lexer": "ipython3",
   "version": "3.6.5"
  }
 },
 "nbformat": 4,
 "nbformat_minor": 2
}
