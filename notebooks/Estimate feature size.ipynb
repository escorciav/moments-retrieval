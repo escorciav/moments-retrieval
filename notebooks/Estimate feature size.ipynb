{
 "cells": [
  {
   "cell_type": "code",
   "execution_count": 9,
   "metadata": {},
   "outputs": [
    {
     "name": "stderr",
     "output_type": "stream",
     "text": [
      "/home/soldanm/anaconda3/envs/moments-retrieval-devel/lib/python3.6/site-packages/h5py/__init__.py:36: FutureWarning: Conversion of the second argument of issubdtype from `float` to `np.floating` is deprecated. In future, it will be treated as `np.float64 == np.dtype(float).type`.\n",
      "  from ._conv import register_converters as _register_converters\n"
     ]
    }
   ],
   "source": [
    "#Load features:\n",
    "import json\n",
    "import h5py"
   ]
  },
  {
   "cell_type": "code",
   "execution_count": 10,
   "metadata": {},
   "outputs": [
    {
     "name": "stdout",
     "output_type": "stream",
     "text": [
      "['26292851@N04_4253489686_265c3c8051.m4v', '51035693821@N01_7071386095_a7350f43e0.mpg', '65430553@N08_7599657594_57ef62657c.avi', '26292851@N04_6059424608_55f3199b86.m4v', '8485866@N03_2731880094_5632455f46.mpg']\n"
     ]
    }
   ],
   "source": [
    "path_anno = '/home/soldanm/Documents/projects/CVPR2020/moments-retrieval/data/processed/didemo/test-01.json'\n",
    "\n",
    "annotations = json.load(open(path_anno,'r'))\n",
    "videos = list(annotations['videos'].keys())\n",
    "\n",
    "print(videos[:5])"
   ]
  },
  {
   "cell_type": "code",
   "execution_count": 22,
   "metadata": {},
   "outputs": [],
   "source": [
    "path_feat = {'rgb':'/home/soldanm/Documents/projects/CVPR2020/moments-retrieval/data/processed/didemo/resnet152_rgb_max_cl-2.5.h5',\n",
    "             'obj':'/home/soldanm/Documents/projects/CVPR2020/moments-retrieval/data/processed/didemo/obj_predictions_perc_50_glove_bb_spatial.h5'}\n",
    "\n",
    "features = {}\n",
    "keys = ['rgb', 'obj']\n",
    "for k in keys:\n",
    "    with h5py.File(path_feat[k], 'r') as fid:\n",
    "        features[k] = {}\n",
    "        for video_id in videos:\n",
    "            features[k][video_id] = fid[video_id][:]\n"
   ]
  },
  {
   "cell_type": "code",
   "execution_count": 25,
   "metadata": {},
   "outputs": [
    {
     "name": "stdout",
     "output_type": "stream",
     "text": [
      "dict_keys(['rgb', 'obj'])\n",
      "(2048,)\n",
      "(10, 304)\n"
     ]
    }
   ],
   "source": [
    "print(features.keys())\n",
    "print(features['rgb'][videos[0]][0].shape)\n",
    "print(features['obj'][videos[0]][0].shape)"
   ]
  },
  {
   "cell_type": "code",
   "execution_count": 26,
   "metadata": {},
   "outputs": [
    {
     "name": "stdout",
     "output_type": "stream",
     "text": [
      "96\n",
      "112\n"
     ]
    }
   ],
   "source": [
    "import sys\n",
    "print(sys.getsizeof(features['rgb'][videos[0]][0]))\n",
    "print(sys.getsizeof(features['obj'][videos[0]][0]))"
   ]
  },
  {
   "cell_type": "code",
   "execution_count": 45,
   "metadata": {},
   "outputs": [
    {
     "name": "stdout",
     "output_type": "stream",
     "text": [
      "1.7881393432617188\n",
      "2.086162567138672\n",
      "305.17578125\n",
      "452.99530029296875\n"
     ]
    }
   ],
   "source": [
    "num_clips = 20000000\n",
    "size_rgb = sys.getsizeof(features['rgb'][videos[0]][0])\n",
    "size_obj = sys.getsizeof(features['obj'][videos[0]][0])\n",
    "\n",
    "tot_size_rgb = num_clips * size_rgb\n",
    "tot_size_obj = num_clips * size_obj\n",
    "print(tot_size_rgb/(1024*1024*1024))\n",
    "print(tot_size_obj/(1024*1024*1024))\n",
    "\n",
    "\n",
    "#otherwise\n",
    "tot_size_rgb = num_clips * 2048  * 8\n",
    "tot_size_obj = num_clips * 304 * 10  * 8\n",
    "print(tot_size_rgb/(1024*1024*1024))\n",
    "print(tot_size_obj/(1024*1024*1024))"
   ]
  },
  {
   "cell_type": "code",
   "execution_count": 36,
   "metadata": {},
   "outputs": [],
   "source": [
    "f = {}\n",
    "with h5py.File(path_feat['obj'], 'r') as fid:\n",
    "    keys = list(fid.keys())\n",
    "    for k in keys:\n",
    "        f[k] = fid[video_id][:]\n",
    "    "
   ]
  },
  {
   "cell_type": "code",
   "execution_count": 42,
   "metadata": {},
   "outputs": [
    {
     "name": "stdout",
     "output_type": "stream",
     "text": [
      "0.281341552734375\n",
      "10643\n"
     ]
    }
   ],
   "source": [
    "print(sys.getsizeof(f)/1024/1024)\n",
    "print(len(list(f.keys())))"
   ]
  }
 ],
 "metadata": {
  "kernelspec": {
   "display_name": "Python 3",
   "language": "python",
   "name": "python3"
  },
  "language_info": {
   "codemirror_mode": {
    "name": "ipython",
    "version": 3
   },
   "file_extension": ".py",
   "mimetype": "text/x-python",
   "name": "python",
   "nbconvert_exporter": "python",
   "pygments_lexer": "ipython3",
   "version": "3.6.5"
  }
 },
 "nbformat": 4,
 "nbformat_minor": 4
}
