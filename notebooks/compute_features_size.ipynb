{
 "cells": [
  {
   "cell_type": "markdown",
   "metadata": {},
   "source": [
    "# Compute features size for hypothetic dataset"
   ]
  },
  {
   "cell_type": "code",
   "execution_count": 10,
   "metadata": {},
   "outputs": [],
   "source": [
    "num_clips_dataset = 2e7\n",
    "num_moments = 170000000\n",
    "\n",
    "size_clip_emb = 100\n",
    "size_rgb_feat = 2048\n",
    "size_obj_feat = 304\n",
    "\n",
    "byte_per_emb  = 4\n",
    "\n",
    "num_rbg_feat_per_clip = 1\n",
    "num_obj_feat_per_clip = 10\n",
    "\n",
    "GB_norm = 1024**3"
   ]
  },
  {
   "cell_type": "markdown",
   "metadata": {},
   "source": [
    "## Size of indexing table\n",
    "- STAL (clips) = num_clips_dataset * size_clip_emb * num_rbg_feat_per_clip * byte_per_emb / GB_norm\n",
    "- MCN          = num_clips_in_proposals * size_clip_emb * num_rbg_feat_per_clip * byte_per_emb / GB_norm"
   ]
  },
  {
   "cell_type": "code",
   "execution_count": 13,
   "metadata": {},
   "outputs": [
    {
     "name": "stdout",
     "output_type": "stream",
     "text": [
      "Indexing size STAL (clips): 7.45 GB\n",
      "Indexing size MCN: 63.33 GB\n"
     ]
    }
   ],
   "source": [
    "indexing_size_STAL_clips = num_clips_dataset * size_clip_emb * num_rbg_feat_per_clip * byte_per_emb / GB_norm\n",
    "indexing_size_MCN        = num_moments * size_clip_emb * num_rbg_feat_per_clip * byte_per_emb / GB_norm\n",
    "print(f'Indexing size STAL (clips): {indexing_size_STAL_clips:.2f} GB')\n",
    "print(f'Indexing size MCN: {indexing_size_MCN:.2f} GB')"
   ]
  },
  {
   "cell_type": "markdown",
   "metadata": {},
   "source": [
    "## Raw feature size\n",
    "- STAL (clips) rgb = MCN = num_clips_dataset * size_rgb_feat * byte_per_emb * num_rbg_feat_per_clip / GB_norm\n",
    "- STAL (clips) obj       = num_clips_dataset * size_obj_feat * num_obj_feat_per_clip * byte_per_emb * num_rbg_feat_per_clip / GB_norm"
   ]
  },
  {
   "cell_type": "code",
   "execution_count": 16,
   "metadata": {},
   "outputs": [
    {
     "name": "stdout",
     "output_type": "stream",
     "text": [
      "Total feat size for second stage STAL: rgb/obj 152.59/226.50 GB\n",
      "Total feat size for second stage MCN: rgb 152.59 GB\n"
     ]
    }
   ],
   "source": [
    "raw_rgb_feat_size = num_clips_dataset * size_rgb_feat * byte_per_emb * num_rbg_feat_per_clip / GB_norm\n",
    "raw_obj_feat_size = num_clips_dataset * size_obj_feat * num_obj_feat_per_clip * byte_per_emb * num_rbg_feat_per_clip / GB_norm\n",
    "\n",
    "print(f'Total feat size for second stage STAL: rgb/obj {raw_rgb_feat_size:.2f}/{raw_obj_feat_size:.2f} GB')\n",
    "print(f'Total feat size for second stage MCN: rgb {raw_rgb_feat_size:.2f} GB')"
   ]
  },
  {
   "cell_type": "markdown",
   "metadata": {},
   "source": [
    "## Raw feature size for non indexable methods"
   ]
  }
 ],
 "metadata": {
  "kernelspec": {
   "display_name": "Python 3",
   "language": "python",
   "name": "python3"
  },
  "language_info": {
   "codemirror_mode": {
    "name": "ipython",
    "version": 3
   },
   "file_extension": ".py",
   "mimetype": "text/x-python",
   "name": "python",
   "nbconvert_exporter": "python",
   "pygments_lexer": "ipython3",
   "version": "3.7.6"
  }
 },
 "nbformat": 4,
 "nbformat_minor": 4
}
